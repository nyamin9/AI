{
 "cells": [
  {
   "cell_type": "markdown",
   "id": "c5861af9",
   "metadata": {},
   "source": [
    "## 2. Regression (회귀)"
   ]
  },
  {
   "cell_type": "markdown",
   "id": "855aad91",
   "metadata": {},
   "source": [
    "어떤 데이터가 너무 크거나 작아도 모든 데이터들은 전체의 평균으로 되돌아가려는 / 회귀하려는 특성이 있다."
   ]
  },
  {
   "cell_type": "markdown",
   "id": "f10449c5",
   "metadata": {},
   "source": [
    "### 2.1. Linear Regression (선형회귀)"
   ]
  },
  {
   "cell_type": "markdown",
   "id": "b5e89a0a",
   "metadata": {},
   "source": [
    "어떤 값들이 선형적인 증가 / 감소 관계에 있을 떄 이 관계를 해석하는 것\n",
    " - 직선의 방정식 \n",
    "즉, Linear Regression은 데이터를 가장 잘 나타내는 직선의 방정식(기울기 / y절편) 을 찾는 것이다."
   ]
  },
  {
   "cell_type": "markdown",
   "id": "4131c70f",
   "metadata": {},
   "source": [
    "### 2.2. Hypothesis"
   ]
  },
  {
   "cell_type": "markdown",
   "id": "0671c046",
   "metadata": {},
   "source": [
    "Hypothesis - 가설함수 $$H(x) = Wx + b$$\n",
    "- 가설 : 이 직선이 데이터의 특징을 가장 잘 나타내는 직선이다.\n",
    "- 이제 이 가설이 데이터를 가장 잘 나타내도록 기울기(W)와 y절편(b)을 정해야 한다.\n",
    "- ($H(x_i) - y_i$ ) : 가설과 실제 데이터와의 차이. 오차 / Loss / Error 라고 한다."
   ]
  },
  {
   "cell_type": "markdown",
   "id": "14137f1c",
   "metadata": {},
   "source": [
    "### 2.3. Cost"
   ]
  },
  {
   "cell_type": "markdown",
   "id": "601f9f73",
   "metadata": {},
   "source": [
    "Cost - 비용함수  $$ Cost(W,b) = \\frac{1}{m} \\sum_{i=1}^m (H(x_i) - y_i)^2 $$\n",
    "- 오차 제곱의 평균\n",
    "- 위의 비용함수에 $x_i$ 값과 $y_i$ 값을 대입하면 비용이 구해짐\n",
    "- 단순히 cost의 총합을 최소화하려고 하면 양수 / 음수의 문제가 발생한다. 따라서 cost를 제곱해서 이 값을 최소화한다."
   ]
  },
  {
   "cell_type": "markdown",
   "id": "67688c3d",
   "metadata": {},
   "source": [
    "### 2.4. 목표"
   ]
  },
  {
   "cell_type": "markdown",
   "id": "39f4dd89",
   "metadata": {},
   "source": [
    "Cost를 최소화하는 기울기와 y절편을 찾는 것이 선형회귀의 목표이다!!"
   ]
  },
  {
   "cell_type": "markdown",
   "id": "16f2ab43",
   "metadata": {},
   "source": []
  },
  {
   "cell_type": "markdown",
   "id": "d600b9ff",
   "metadata": {},
   "source": []
  }
 ],
 "metadata": {
  "kernelspec": {
   "display_name": "Python 3",
   "language": "python",
   "name": "python3"
  },
  "language_info": {
   "codemirror_mode": {
    "name": "ipython",
    "version": 3
   },
   "file_extension": ".py",
   "mimetype": "text/x-python",
   "name": "python",
   "nbconvert_exporter": "python",
   "pygments_lexer": "ipython3",
   "version": "3.8.8"
  }
 },
 "nbformat": 4,
 "nbformat_minor": 5
}
