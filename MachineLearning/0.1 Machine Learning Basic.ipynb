{
 "cells": [
  {
   "cell_type": "markdown",
   "id": "a3dc6316",
   "metadata": {},
   "source": [
    "## 1. 머신러닝"
   ]
  },
  {
   "cell_type": "markdown",
   "id": "49c67a10",
   "metadata": {},
   "source": [
    "explicit programming 의 한계 떄문에 고안되기 시작  \n",
    " * explicit programming : 정확한 상황에 딱 짜여진 대로 결과를 도출하는 것.  \n",
    "   \n",
    " 하지만 생각할 규칙과 상황이 너무 많이 늘어감에 따라 인간이 그 규칙들을 모두 따져가며 프로그래밍을 할 수가 없어짐  \n",
    " \n",
    " 그래서 프로그래밍이 배운다는 의미의 Machine Learning 이 발달하기 시작함  \n",
    " \n",
    " 주로 Supervised learning 과 Unsupervised learning 로 분류"
   ]
  },
  {
   "cell_type": "markdown",
   "id": "a239a888",
   "metadata": {},
   "source": [
    "### 1.1 Supervised learning (지도학습)"
   ]
  },
  {
   "cell_type": "markdown",
   "id": "59bf2ea3",
   "metadata": {},
   "source": [
    "정해진 training set을 가지고 학습하는 것 \n",
    "- 이미지 라벨링, 스팸이메일 필터, 시험점수 예측\n",
    "- Label(답) 이 정해지지 않은 feature 를 가지고 있는 training set 을 머신이 학습하고 학습 후에 feature 에 정확한 Label 을 해줌\n",
    "- 종류\n",
    "    - Regression (회귀) : 넓은 범위에 대해서 예측해야 하는 경우 (1~100) - 예측변수 사용\n",
    "    - Binary classification (분류) : 둘 중에 하나로 나눠야하는 경우 (A / B)\n",
    "    - Multi-label classification : 몇 개 중에 하나로 분류해야 하는 경우 (A / B / C / D / F)"
   ]
  },
  {
   "cell_type": "markdown",
   "id": "73ddbb2d",
   "metadata": {},
   "source": [
    "### 1.2 Unsupervised learning (비지도학습)"
   ]
  },
  {
   "cell_type": "markdown",
   "id": "77ddc6cd",
   "metadata": {},
   "source": [
    "정해지지 않은 데이터를 가지고 직접 학습해야 하는 것\n",
    "- 데이터만을 가지고 학습하게 되는데 데이터가 무작위로 분포 되어 있을때 비슷한 특성을 가진 데이터들을 묶는 방식"
   ]
  }
 ],
 "metadata": {
  "kernelspec": {
   "display_name": "Python 3",
   "language": "python",
   "name": "python3"
  },
  "language_info": {
   "codemirror_mode": {
    "name": "ipython",
    "version": 3
   },
   "file_extension": ".py",
   "mimetype": "text/x-python",
   "name": "python",
   "nbconvert_exporter": "python",
   "pygments_lexer": "ipython3",
   "version": "3.8.8"
  }
 },
 "nbformat": 4,
 "nbformat_minor": 5
}
