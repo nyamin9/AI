{
 "cells": [
  {
   "cell_type": "code",
   "execution_count": 2,
   "id": "fa8f2ab3",
   "metadata": {},
   "outputs": [],
   "source": [
    "import pandas as pd\n",
    "import matplotlib.pyplot as plt\n",
    "import torch\n",
    "import numpy as np\n",
    "import random\n",
    "from torch.utils.data import Dataset, DataLoader"
   ]
  },
  {
   "cell_type": "code",
   "execution_count": 3,
   "id": "de28e287",
   "metadata": {},
   "outputs": [],
   "source": [
    "# pandas를 이용하여 excel파일의 데이터를 가져옵니다. 321일치의 데이터가 있음을 확인해 볼 수 있습니다.\n",
    "d = pd.read_excel('C:\\\\Users\\mingu\\Desktop\\\\2020_covid19_KR_seoul.xlsx')"
   ]
  },
  {
   "cell_type": "code",
   "execution_count": 4,
   "id": "003a554c",
   "metadata": {},
   "outputs": [
    {
     "name": "stdout",
     "output_type": "stream",
     "text": [
      "<class 'pandas.core.frame.DataFrame'>\n",
      "RangeIndex: 321 entries, 0 to 320\n",
      "Data columns (total 16 columns):\n",
      " #   Column                                                    Non-Null Count  Dtype         \n",
      "---  ------                                                    --------------  -----         \n",
      " 0   date                                                      321 non-null    datetime64[ns]\n",
      " 1   retail_and_recreation_percent_change_from_baseline        321 non-null    int64         \n",
      " 2   grocery_and_pharmacy_percent_change_from_baseline         321 non-null    int64         \n",
      " 3   parks_percent_change_from_baseline                        321 non-null    int64         \n",
      " 4   transit_stations_percent_change_from_baseline             321 non-null    int64         \n",
      " 5   workplaces_percent_change_from_baseline                   321 non-null    int64         \n",
      " 6   residential_percent_change_from_baseline                  321 non-null    int64         \n",
      " 7   seoul_retail_and_recreation_percent_change_from_baseline  321 non-null    int64         \n",
      " 8   seoul_grocery_and_pharmacy_percent_change_from_baseline   321 non-null    int64         \n",
      " 9   seoul_parks_percent_change_from_baseline                  321 non-null    int64         \n",
      " 10  seoul_transit_stations_percent_change_from_baseline       321 non-null    int64         \n",
      " 11  seoul_workplaces_percent_change_from_baseline             321 non-null    int64         \n",
      " 12  seoul_residential_percent_change_from_baseline            321 non-null    int64         \n",
      " 13  confirmed_new                                             321 non-null    int64         \n",
      " 14  deaths_new                                                321 non-null    int64         \n",
      " 15  recovered_new                                             321 non-null    int64         \n",
      "dtypes: datetime64[ns](1), int64(15)\n",
      "memory usage: 40.2 KB\n"
     ]
    }
   ],
   "source": [
    "d.info()"
   ]
  },
  {
   "cell_type": "code",
   "execution_count": 5,
   "id": "179a7966",
   "metadata": {},
   "outputs": [
    {
     "name": "stdout",
     "output_type": "stream",
     "text": [
      "feature 0: date\n",
      "feature 1: retail_and_recreation_percent_change_from_baseline\n",
      "feature 2: grocery_and_pharmacy_percent_change_from_baseline\n",
      "feature 3: parks_percent_change_from_baseline\n",
      "feature 4: transit_stations_percent_change_from_baseline\n",
      "feature 5: workplaces_percent_change_from_baseline\n",
      "feature 6: residential_percent_change_from_baseline\n",
      "feature 7: seoul_retail_and_recreation_percent_change_from_baseline\n",
      "feature 8: seoul_grocery_and_pharmacy_percent_change_from_baseline\n",
      "feature 9: seoul_parks_percent_change_from_baseline\n",
      "feature 10: seoul_transit_stations_percent_change_from_baseline\n",
      "feature 11: seoul_workplaces_percent_change_from_baseline\n",
      "feature 12: seoul_residential_percent_change_from_baseline\n",
      "feature 13: confirmed_new\n",
      "feature 14: deaths_new\n",
      "feature 15: recovered_new\n"
     ]
    }
   ],
   "source": [
    "# 각각의 feature들의 이름을 출력하여 봅시다.\n",
    "col_names = list(d.columns)\n",
    "i = 0\n",
    "for n in col_names:\n",
    "    print(f'feature {i}: {n}')\n",
    "    i=i+1"
   ]
  },
  {
   "cell_type": "code",
   "execution_count": 6,
   "id": "4d53b91a",
   "metadata": {},
   "outputs": [
    {
     "name": "stdout",
     "output_type": "stream",
     "text": [
      "(314,)\n"
     ]
    }
   ],
   "source": [
    "# target : 새로 확진된 사람의 수 - feature 13: confirmed_new\n",
    "# 13번째 feature인 새로 확진된 사람의 숫자를 y(target)로 합니다.\n",
    "# 우리는 1주 전의 데이터를 통해 1주 후를 예측하고자 하므로, 7번째 날짜부터의 데이터를 y로 가져오겠습니다.\n",
    "y = d.iloc[7:,13].to_numpy()\n",
    "print(y.shape)"
   ]
  },
  {
   "cell_type": "code",
   "execution_count": 7,
   "id": "3ccf4af8",
   "metadata": {},
   "outputs": [
    {
     "name": "stdout",
     "output_type": "stream",
     "text": [
      "(314, 8)\n"
     ]
    }
   ],
   "source": [
    "# 몇 개의 feature를 선정하여 input data X로 가져오겠습니다.\n",
    "# 마지막 7일치 데이터는 target이 존재하지 않으므로, 이는 빼고 가져오도록 합니다.\n",
    "X = d.iloc[:-7,[2,6,5,4,7,8,3,12]].to_numpy()\n",
    "print(X.shape)"
   ]
  },
  {
   "cell_type": "code",
   "execution_count": 8,
   "id": "57aacbd2",
   "metadata": {},
   "outputs": [],
   "source": [
    "# model 학습에 사용하기 위해 X, y를 모두 pytorch의 floattensor로 변환합니다.\n",
    "X = torch.tensor(X).type(torch.FloatTensor)\n",
    "y = torch.tensor(y).type(torch.FloatTensor)"
   ]
  },
  {
   "cell_type": "code",
   "execution_count": 9,
   "id": "667fbef1",
   "metadata": {},
   "outputs": [
    {
     "data": {
      "text/plain": [
       "torch.Size([314, 8])"
      ]
     },
     "execution_count": 9,
     "metadata": {},
     "output_type": "execute_result"
    }
   ],
   "source": [
    "X.shape"
   ]
  },
  {
   "cell_type": "code",
   "execution_count": 10,
   "id": "a4a12f5c",
   "metadata": {},
   "outputs": [
    {
     "data": {
      "text/plain": [
       "torch.Size([314])"
      ]
     },
     "execution_count": 10,
     "metadata": {},
     "output_type": "execute_result"
    }
   ],
   "source": [
    "y.shape"
   ]
  },
  {
   "cell_type": "code",
   "execution_count": 11,
   "id": "5d241034",
   "metadata": {},
   "outputs": [
    {
     "data": {
      "image/png": "[encoded data removed]",
      "text/plain": [
       "<Figure size 432x288 with 1 Axes>"
      ]
     },
     "metadata": {
      "needs_background": "light"
     },
     "output_type": "display_data"
    },
    {
     "data": {
      "image/png": "[encoded data removed]",
      "text/plain": [
       "<Figure size 432x288 with 1 Axes>"
      ]
     },
     "metadata": {
      "needs_background": "light"
     },
     "output_type": "display_data"
    },
    {
     "data": {
      "image/png": "[encoded data removed]",
      "text/plain": [
       "<Figure size 432x288 with 1 Axes>"
      ]
     },
     "metadata": {
      "needs_background": "light"
     },
     "output_type": "display_data"
    },
    {
     "data": {
      "image/png": "[encoded data removed]",
      "text/plain": [
       "<Figure size 432x288 with 1 Axes>"
      ]
     },
     "metadata": {
      "needs_background": "light"
     },
     "output_type": "display_data"
    },
    {
     "data": {
      "image/png": "[encoded data removed]",
      "text/plain": [
       "<Figure size 432x288 with 1 Axes>"
      ]
     },
     "metadata": {
      "needs_background": "light"
     },
     "output_type": "display_data"
    },
    {
     "data": {
      "image/png": "[encoded data removed]",
      "text/plain": [
       "<Figure size 432x288 with 1 Axes>"
      ]
     },
     "metadata": {
      "needs_background": "light"
     },
     "output_type": "display_data"
    },
    {
     "data": {
      "image/png": "[encoded data removed]",
      "text/plain": [
       "<Figure size 432x288 with 1 Axes>"
      ]
     },
     "metadata": {
      "needs_background": "light"
     },
     "output_type": "display_data"
    },
    {
     "data": {
      "image/png": "[encoded data removed]",
      "text/plain": [
       "<Figure size 432x288 with 1 Axes>"
      ]
     },
     "metadata": {
      "needs_background": "light"
     },
     "output_type": "display_data"
    }
   ],
   "source": [
    "# 각각의 feature와 y의 관계를 그래프로 확인합니다.\n",
    "for n in range(X.shape[-1]):\n",
    "    plt.scatter(X[:,n],y,2)\n",
    "    plt.xlabel(f' feature x{n+1}')\n",
    "    plt.ylabel('target (y)')\n",
    "    plt.grid('on')\n",
    "    plt.tight_layout()\n",
    "    plt.show()"
   ]
  },
  {
   "cell_type": "markdown",
   "id": "fb20b9ca",
   "metadata": {},
   "source": [
    "### 파이썬코드 작성 및 실행 ###\n",
    "- 불러온 데이터에 대해 학습을 진행할 수 있도록 필요한 model, loss function, optimization algorithm, data loader를 정의하고, 적절한 하이퍼파라미터를 설정하여 모델을 학습시켜 봅니다.\n",
    "- 아래의 실습코드를 참고하여 네 개의 함수를 정의하고 하이퍼파라미터들을 학습결과를 보며 최적화합니다.\n",
    "- 학습결과가 만족스럽지 않은 경우 input feature의 종류를 변경하여 X를 다시 구성해봅시다.\n",
    "- 아래 세 개의 cell에 코드를 넣어 진행하는 것을 권장하지만 필요시 새로운 cell을 추가하여도 괜찮습니다."
   ]
  },
  {
   "cell_type": "code",
   "execution_count": 12,
   "id": "b414631c",
   "metadata": {},
   "outputs": [],
   "source": [
    "### model parameter 초기화 및 하이퍼파라미터 설정 ###\n",
    "\n",
    "## parameter 초기화\n",
    "## 각 parameter 업데이트를 위해 requires_grad = True 설정\n",
    "## requires_grad = True 설정으로 W.grad와 b.grad에 각 parameter의 gradient가 저장되어 사용가능함\n",
    "\n",
    "# Weight 초기값 0으로 설정\n",
    "# X와의 matrix multiplication 을 위해 X의 열의 개수와 W의 행의 개수를 맞춰줌\n",
    "W = torch.zeros((8,1), requires_grad = True)\n",
    "# bias 초기값 0으로 설정\n",
    "b = torch.zeros(1, requires_grad = True)\n",
    "\n",
    "## hyper parameter 설정\n",
    "# learning rate 설정\n",
    "lr = 0.0001\n",
    "# 시행횟수 설정\n",
    "num_epochs = 50000\n",
    "# 배치 사이즈 설정\n",
    "batch_size = 30"
   ]
  },
  {
   "cell_type": "code",
   "execution_count": 13,
   "id": "3adf549f",
   "metadata": {},
   "outputs": [],
   "source": [
    "# 🤦‍♂️🤦‍♂️🤦‍♂️🤦‍♂️🤦‍♂️🤦‍♂️🤦‍♂️🤦‍♂️🤦‍♂️🤦‍♂️🤦‍♂️🤦‍♂️🤦‍♂️🤦‍♂️🤦‍♂️🤦‍♂️🤦‍♂️🤦‍♂️🤦‍♂️🤦‍♂️\n",
    "### 필요한 함수들의 정의 (model, loss, algorithm, data loader) ###\n",
    "\n",
    "# linear Regression model 생성\n",
    "\n",
    "# y = XW + b\n",
    "# retrun predictions(= y_hat)\n",
    "def lin_model(X, W, b): \n",
    "    return torch.matmul(X, W) + b\n",
    "\n",
    "# loss 함수 생성\n",
    "\n",
    "# squared loss : ((predictions - labels)^2) / 2\n",
    "# y는 torch.Size([314]), y_hat은 torch.Size([314, 1])이므로 연산을 위해 reshape()함수 사용\n",
    "def loss(y_hat, y):  \n",
    "    return (y_hat - y.reshape(y_hat.shape))**2 / 2\n",
    "\n",
    "\n",
    "# optimization algorithm 정의. 학습\n",
    "\n",
    "# Minibatch stochastic gradient descent\n",
    "# parameter(W,b) / learning_rate / batch_size 를 인수로 받음\n",
    "# parameter(W,b) 업데이트\n",
    "def sgd(W, b, lr, batch_size):  \n",
    "    # with torch.no_grad() 구문 내에서는 gradient 연산 옵션을 꺼줌\n",
    "    # sgd 호출 순간의 gradient를 사용하겠다는 의미\n",
    "    with torch.no_grad():\n",
    "        W -= lr * W.grad / batch_size         # W.grad : W의 gradient \n",
    "        W.grad.zero_()                        # W의 gradient 0으로 초기화\n",
    "        \n",
    "        b -= lr * b.grad / batch_size         # b.grad : b의 gradient \n",
    "        b.grad.zero_()                        # b의 gradient 0으로 초기화\n",
    "        \n",
    "        \n",
    "class CustomDataset(Dataset):\n",
    "    def __init__(self, data):\n",
    "        self.features = X\n",
    "        self.labels = y\n",
    "        \n",
    "    def __len__(self):\n",
    "        return len(self.features)\n",
    "    \n",
    "    def __getitem__(self, idx):\n",
    "        features = torch.FloatTensor(self.features[idx])\n",
    "        labels = torch.FloatTensor(self.labels[idx])\n",
    "        return features, labels\n",
    "    \n",
    "dataset = CustomDataset(d)\n",
    "dataloader = DataLoader(dataset, batch_size = batch_size, shuffle = True)"
   ]
  },
  {
   "cell_type": "code",
   "execution_count": 14,
   "id": "d7d00c48",
   "metadata": {},
   "outputs": [
    {
     "name": "stdout",
     "output_type": "stream",
     "text": [
      "tensor([[  7.,   2.,  -1.,  -3.,  -3.,  10.,  35.,   3.],\n",
      "        [  5.,   2.,  -1.,  -5.,  -8.,   6.,  23.,   3.],\n",
      "        [  8.,   3.,  -7.,  -6., -21.,   7.,   4.,   3.],\n",
      "        [ 20.,   1.,  -7.,  -5.,  -6.,  21.,  49.,   1.],\n",
      "        [ 18.,   3.,  -1.,  -1.,  -2.,  19.,  57.,   3.],\n",
      "        [ 10.,   6.,  -7., -13., -18.,  12.,  17.,   6.],\n",
      "        [  0.,   4.,  -3., -15., -15.,   0., -31.,   4.],\n",
      "        [ -2.,   9., -12., -29., -41.,  -4., -13.,  10.],\n",
      "        [  4.,   7., -14., -24., -35.,   8.,  15.,   8.],\n",
      "        [  0.,   3.,  -7.,  -9.,  -7.,   0.,  28.,   3.],\n",
      "        [ 11.,   4.,  -1.,  -6.,  -7.,  13.,  40.,   5.],\n",
      "        [  6.,   2.,   1.,  -7.,  -3.,   6.,   8.,   3.],\n",
      "        [  9.,   2.,  -7.,  -7.,   2.,  12.,  25.,   3.],\n",
      "        [  7.,   2.,  -1.,  -4.,  -7.,   8.,  36.,   3.],\n",
      "        [  9.,   1.,  -1.,   3., -13.,  10.,  28.,   3.],\n",
      "        [  7.,   2.,  -1.,  -5.,  -9.,   8.,  43.,   3.],\n",
      "        [ 11.,   0.,  -2.,  -1.,  -9.,  13.,  40.,   2.],\n",
      "        [  6.,  -1.,   3.,   2., -11.,   6.,  38.,   1.],\n",
      "        [  2.,   9., -10., -19., -31.,   0., -11.,  12.],\n",
      "        [  4.,   7.,  -6., -12., -16.,   6.,  60.,   7.],\n",
      "        [-11.,  10., -14., -29., -42., -10., -19.,  12.],\n",
      "        [ -7.,  11.,  -8., -29., -30.,  -2., -16.,  10.],\n",
      "        [ 11.,   1.,  -6.,  -5.,  -8.,   9.,  41.,   2.],\n",
      "        [ 10.,   1.,  -6.,   4., -12.,   9.,  35.,   1.],\n",
      "        [ -8.,   7., -12., -17., -23.,  -8.,  52.,   7.],\n",
      "        [ 11.,   2.,  -8.,  -3.,  -4.,   8.,  49.,   3.],\n",
      "        [ 11.,   1.,  -1.,   2., -16.,  11.,  52.,   3.],\n",
      "        [-10.,  12., -10., -32., -35.,  -4., -13.,  11.],\n",
      "        [  7.,   8.,  -8., -15., -27.,   6., -12.,  11.],\n",
      "        [  4.,   6.,  -9., -11., -20.,   4.,   3.,   9.]]) \n",
      " tensor([  32.,   35.,  449.,   62.,   38.,   18.,  169.,  167.,  121.,   17.,\n",
      "           3.,   63.,  297.,   27.,   77.,   39.,  113.,  145.,  983.,   47.,\n",
      "         155.,  107.,   61.,  208.,  105.,   43.,   99.,  448.,  869., 1048.])\n",
      "tensor([[ -4.,   3.,  -1., -12., -20.,  -9.,  -2.,   5.],\n",
      "        [  9.,   8.,  -9., -11., -23.,   8.,   7.,  11.],\n",
      "        [  5.,   0.,   2.,   1., -12.,   5.,  31.,   2.],\n",
      "        [  2.,   4.,  -2.,  -8., -28.,   3.,   6.,   6.],\n",
      "        [ -3.,   8.,  -8., -18., -23.,  -3.,  23.,   8.],\n",
      "        [ -1.,   8., -11., -22., -28.,   1.,   2.,   9.],\n",
      "        [ 11.,   2.,   0.,  -3.,  -3.,  13.,  48.,   2.],\n",
      "        [  9.,   1.,  -7.,  -6., -10.,   7.,  38.,   2.],\n",
      "        [-13.,   9.,  -7., -25., -29., -13., -18.,  10.],\n",
      "        [-11.,   9.,  -9., -25., -27.,  -9.,  -2.,   9.],\n",
      "        [-10.,   7., -13., -20., -21.,  -8.,   8.,   6.],\n",
      "        [ 22.,  10., -46., -13.,  -5.,  19.,  98.,  13.],\n",
      "        [  8.,   4.,  -9., -12., -19.,  13.,  42.,   7.],\n",
      "        [  1.,   7., -12., -24., -25.,   3., -20.,   7.],\n",
      "        [ -3.,   2.,   1.,  -6.,  -7.,  -4.,   7.,   2.],\n",
      "        [ 12.,  -2.,   2.,   9.,  -3.,  14.,  49.,   0.],\n",
      "        [  8.,   0.,   1.,  -6.,  -5.,   8.,  46.,   1.],\n",
      "        [ 10.,   3.,  -7., -10.,  -6.,  11.,  36.,   2.],\n",
      "        [ 10.,   4.,  -6., -11., -10.,  10.,  13.,   4.],\n",
      "        [ 15.,   1.,   1.,  -1.,  -5.,  16.,  49.,   3.],\n",
      "        [ 10.,   2.,  -2.,  -2.,  -9.,  10.,  37.,   3.],\n",
      "        [  1.,   3.,  -8.,  -5.,  -8.,   1.,  56.,   4.],\n",
      "        [-14.,   9., -14., -24., -28., -13.,  34.,   8.],\n",
      "        [ -1.,   7.,  -7., -16., -21.,   0.,  47.,   8.],\n",
      "        [  4.,   5.,  -2.,  -9., -14.,   1.,  12.,   6.],\n",
      "        [ 11.,   1.,  -2.,  -1., -17.,  12.,  30.,   3.],\n",
      "        [  2.,   3.,   0., -10., -11.,   3.,   4.,   4.],\n",
      "        [  9.,   5.,  -4., -10., -14.,  11.,  21.,   5.],\n",
      "        [ -6.,   5.,   0.,  -6.,  -9.,  -6., -17.,   5.],\n",
      "        [  6.,   1.,  -1.,  -5.,  -7.,   5.,  40.,   3.]]) \n",
      " tensor([  54., 1045.,  143.,  629.,   93.,  195.,   33.,  320.,  104.,  114.,\n",
      "           8.,  280.,  113.,   10.,  505.,  118.,   41.,   30.,   48.,   34.,\n",
      "          48.,    8.,   76.,  100.,   19.,   63.,   63.,   13.,  231.,  113.])\n",
      "tensor([[ 30.,   5., -18.,   1.,  11.,  30.,  95.,   6.],\n",
      "        [  3.,   5.,  -9., -14., -26.,   1.,  21.,   7.],\n",
      "        [  8.,   3.,  -8.,  -3., -20.,   7.,  52.,   3.],\n",
      "        [ 17.,  -2.,  -3.,   2.,  -2.,  18.,  62.,   2.],\n",
      "        [ 21.,   1.,  -7.,   5.,  -9.,  22.,  59.,   1.],\n",
      "        [ 10.,   6.,  -3.,  -9., -11.,  12.,  45.,   6.],\n",
      "        [ 15.,   2.,  -2.,   3., -11.,  16.,  45.,   3.],\n",
      "        [  1.,   2.,   0.,  -9.,  -9.,   5.,  18.,   2.],\n",
      "        [-10.,   9., -10., -24., -27.,  -5.,   1.,   9.],\n",
      "        [  0.,   3.,   1.,  -6.,  -8.,   0.,   3.,   3.],\n",
      "        [ -8.,  11., -16., -36., -40.,  -3., -17.,  11.],\n",
      "        [  4.,   3.,  -6.,  -5.,  -7.,   3.,  42.,   4.],\n",
      "        [ 12.,   1.,  -3.,   0., -17.,  12.,  42.,   3.],\n",
      "        [  9.,   2.,  -3.,  -4.,  -1.,  12.,  51.,   3.],\n",
      "        [  5.,   6., -11., -17., -31.,   6.,  31.,  10.],\n",
      "        [  8.,   9., -12., -20., -32.,   8.,  -9.,  10.],\n",
      "        [  8.,   0.,   2.,   4., -11.,   8.,  35.,   1.],\n",
      "        [ 11.,   6., -12., -17., -22.,  12.,  51.,   6.],\n",
      "        [ -1.,   5.,  -3., -14., -16.,   0., -14.,   6.],\n",
      "        [ 10.,   1.,   0.,  -3.,  -8.,  10.,  52.,   3.],\n",
      "        [  6.,   6.,  -3.,  -9., -14.,   7.,  48.,   7.],\n",
      "        [  7.,   2.,  -2.,  -6., -10.,   8.,  42.,   4.],\n",
      "        [ -1.,   3.,  -5., -14., -20.,   4.,  24.,   4.],\n",
      "        [ -2.,   6.,  -4., -14., -19.,  -1.,  31.,   7.],\n",
      "        [  2.,   8.,  -7., -20., -24.,   4.,  16.,   8.],\n",
      "        [ 16.,   0.,  -8.,   5., -11.,  16.,  36.,   1.],\n",
      "        [ 63.,  -1.,  -7.,  16.,   7.,  65.,  44.,   1.],\n",
      "        [ 24.,   7., -12., -10., -17.,  26.,   4.,  10.],\n",
      "        [ -3.,   2.,   2.,  -3.,   1.,  -2.,  -5.,   2.],\n",
      "        [ 17.,   1.,   0.,   6., -10.,  19.,  57.,   2.]]) \n",
      " tensor([  27.,  323.,   91.,    4.,  119.,   13.,  102.,   39.,  467.,  229.,\n",
      "         273.,   35.,   77.,    9.,  136., 1095.,   89.,   81.,   45.,   28.,\n",
      "          25.,   20.,  114.,   22.,   94.,  271.,  114., 1029.,  144.,   58.])\n",
      "tensor([[  5.,   0.,  -8.,   8.,  -6.,   3.,  67.,   1.],\n",
      "        [  7.,   2.,  -1.,  -5.,  -9.,   8.,  25.,   4.],\n",
      "        [  7.,   1.,   0.,  -5.,   1.,  12.,  28.,   2.],\n",
      "        [ 17.,  13., -50., -10., -14.,  14.,  97.,  16.],\n",
      "        [  5.,   7.,  -8., -16., -23.,   5.,  25.,   7.],\n",
      "        [  6.,   7.,  -5., -13., -17.,   8.,  47.,   7.],\n",
      "        [  9.,   1.,  -7.,   2., -14.,   7.,  27.,   1.],\n",
      "        [ 11.,   1.,  -1.,   3., -13.,  10.,  53.,   2.],\n",
      "        [  2.,   7.,  -9., -16., -25.,   0., -17.,  10.],\n",
      "        [-17.,  13., -12., -30., -35., -15., -38.,  13.],\n",
      "        [ -5.,   8.,  -7., -20., -24.,  -3.,  19.,   8.],\n",
      "        [ 11.,   2.,  -6.,  -7.,  -8.,  10.,  41.,   2.],\n",
      "        [ -6.,   9.,  -4., -24., -24.,  -4., -32.,   8.],\n",
      "        [  5.,  -1.,   3.,   5.,  -8.,   7.,  20.,   1.],\n",
      "        [  7.,   3.,  -2.,  -8.,  -4.,   9.,  14.,   5.],\n",
      "        [ 13.,   3., -15.,  -7., -13.,  10.,  49.,   4.],\n",
      "        [ 12.,  -1.,  -1.,   4., -11.,  14.,  43.,   0.],\n",
      "        [  4.,   2.,  -1.,  -5., -13.,   0.,  26.,   4.],\n",
      "        [ -5.,   9.,  -7., -20., -24.,  -3.,   2.,  10.],\n",
      "        [  0.,   7.,  -8., -15., -19.,   1.,  44.,   8.],\n",
      "        [-11.,  12., -16., -31., -39., -12., -25.,  13.],\n",
      "        [  5.,   6.,  -2., -11., -15.,   5.,  19.,   7.],\n",
      "        [ 12.,   1.,   3.,   4., -10.,  13.,  26.,   2.],\n",
      "        [  5.,   0.,   3.,   2., -12.,   5.,  26.,   1.],\n",
      "        [  7.,   0.,   1.,   4., -13.,   6.,  20.,   2.],\n",
      "        [ 12.,   1.,  -5.,   4., -13.,  12.,  44.,   1.],\n",
      "        [  1.,   8.,  -6., -17., -17.,   5.,  16.,   8.],\n",
      "        [  3.,   4.,  -9., -16., -27.,   4.,  40.,   7.],\n",
      "        [  8.,   0.,   1.,  -2.,   1.,  10.,  43.,   1.],\n",
      "        [  2.,  -1.,   3.,   3.,  -6.,   4.,  18.,   1.]]) \n",
      " tensor([  97.,   67.,   63.,   73.,   30.,   78.,  330.,  119., 1090.,  505.,\n",
      "         152.,   34.,  813.,  382.,   40.,   34.,   47.,   59.,   87.,   53.,\n",
      "         106.,   14.,  229.,  363.,  386.,   61.,   74.,  126.,   39.,  146.])\n",
      "tensor([[ 18.,   1.,   2.,  -1.,  -2.,  19.,  55.,   2.],\n",
      "        [  5.,   8., -20., -30., -37.,   8.,  -6.,   8.],\n",
      "        [  6.,   2.,   0.,  -5., -11.,   6.,  35.,   3.],\n",
      "        [ 14.,   3.,   0.,  -2.,  -5.,  15.,  44.,   4.],\n",
      "        [  2.,   7.,  -5., -12., -17.,   4.,  22.,   7.],\n",
      "        [  5.,   1.,   1.,  -6.,  -7.,   6.,  41.,   2.],\n",
      "        [ 15.,   2., -10.,  -4., -17.,  14.,   2.,   3.],\n",
      "        [ 12.,   1.,  -4.,   4., -12.,  11.,  40.,   1.],\n",
      "        [ 13.,   1.,  -3.,  -5., -12.,  14.,  52.,   3.],\n",
      "        [  4.,   6.,  -4., -10., -30.,   4.,  -9.,   8.],\n",
      "        [  4.,   5., -13.,  -9.,  -4.,   8.,  24.,   4.],\n",
      "        [ 10.,   6., -10., -16., -27.,  11.,  39.,   9.],\n",
      "        [ -1.,   9.,  -8., -20., -22.,   3.,  10.,   9.],\n",
      "        [  6.,   7.,  -7., -12., -26.,   3.,   0.,  10.],\n",
      "        [ -1.,   2.,   1.,  -4.,  -7.,  -1.,  14.,   2.],\n",
      "        [ -7.,   9.,  -6., -20., -23.,  -6., -19.,  10.],\n",
      "        [ -8.,   8.,  -7., -21., -24.,  -4.,   3.,   8.],\n",
      "        [  8.,   5.,  -3.,  -8., -24.,   8.,   4.,   7.],\n",
      "        [  5.,   1.,  -2.,  -7.,   1.,   7.,  27.,   2.],\n",
      "        [  6.,   2.,  -6.,  -9.,  -3.,   9.,  43.,   3.],\n",
      "        [  3.,   7., -10., -19., -34.,   4., -19.,   8.],\n",
      "        [ 10.,   1.,  -5.,  -5., -11.,   7.,  44.,   2.],\n",
      "        [ 15.,   3., -18.,  -4.,   3.,  12.,  62.,   4.],\n",
      "        [  3.,   3.,  -9., -14., -22.,   1.,  30.,   5.],\n",
      "        [  1.,   9., -12., -29., -30.,   2.,  -3.,   9.],\n",
      "        [ -6.,   7., -41., -13., -30.,  -8.,  53.,   7.],\n",
      "        [ 13.,   2., -15., -12., -23.,  -1.,  24.,   4.],\n",
      "        [  9.,   1.,  -8.,  -5.,  -2.,   8.,  52.,   2.],\n",
      "        [ -8.,   3., -10., -12., -11.,  -8.,  12.,   3.],\n",
      "        [  3.,   5.,  -4.,  -8., -22.,   5.,   1.,   7.]]) \n",
      " tensor([  46.,  109.,   56.,   13.,   22.,   45.,  126.,  124.,   38.,  583.,\n",
      "         166.,  136.,  164., 1055.,  284.,   10.,   89.,  594.,   33.,   20.,\n",
      "         631.,   62.,   54.,  371.,  162.,   58.,   28.,  288.,   26.,  677.])\n",
      "tensor([[ 13.,   3.,  -4.,  -9., -15.,  15.,  52.,   5.],\n",
      "        [-11.,  10., -20., -29., -41., -14., -24.,  12.],\n",
      "        [ -1.,   7., -11., -24., -38.,  -5.,   0.,   9.],\n",
      "        [  9.,   0.,  -1.,   4.,  -9.,  12.,  41.,   1.],\n",
      "        [  5.,   0.,   1.,   3., -13.,   5.,  20.,   2.],\n",
      "        [ 12.,   2., -11.,  -4.,  -6.,   8.,  42.,   4.],\n",
      "        [ -3.,   5.,  -5., -15., -19.,  -3., -23.,   8.],\n",
      "        [-11.,   5., -14., -21., -23., -22.,  -6.,   7.],\n",
      "        [  5.,   6.,  -5., -10., -28.,   6.,   8.,   8.],\n",
      "        [  1.,   7.,  -8., -14., -20.,   0.,  61.,   7.],\n",
      "        [-13.,  10., -10., -26., -25.,  -5., -38.,   9.],\n",
      "        [-11.,   9.,  -9., -25., -24., -11., -32.,   9.],\n",
      "        [-18.,  10., -81., -21., -54., -26., 120.,  14.],\n",
      "        [  6.,   5., -13., -11.,  -7.,   5.,  36.,   5.],\n",
      "        [  9.,   0.,   2.,   5., -10.,   8.,  54.,   1.],\n",
      "        [  8.,   3.,  -8., -12., -18.,  10.,  24.,   5.],\n",
      "        [ -8.,  10.,  -9., -22., -25.,  -6.,   1.,  10.],\n",
      "        [  8.,   1.,  -1.,  -3.,  -2.,  10.,  41.,   3.],\n",
      "        [  2.,   7.,  -6., -12., -31.,   2., -10.,   9.],\n",
      "        [  6.,   3.,   0.,  -4., -26.,   5.,  18.,   6.],\n",
      "        [ -2.,   6.,  -5., -13., -32.,  -3.,   4.,   9.],\n",
      "        [ 11.,   0.,   3.,   5.,  -7.,  11.,  46.,   1.],\n",
      "        [ -4.,   5.,   0., -10., -14.,  -5., -10.,   5.],\n",
      "        [-18.,   8.,  -9., -25., -27., -15., -12.,   7.],\n",
      "        [ -3.,   6.,  -4., -15., -19.,  -5.,   6.,   7.],\n",
      "        [ 15.,   5., -20.,  -6., -11.,   5.,  69.,   7.],\n",
      "        [ 22.,  13., -46., -10., -11.,  13., 123.,  15.],\n",
      "        [ 23.,  14., -56., -14.,  15.,  27., 114.,  17.],\n",
      "        [  5.,   2.,   1.,  -2., -19.,   7.,   8.,   4.],\n",
      "        [ 23.,  17., -50., -16.,  -7.,  26., 124.,  20.]]) \n",
      " tensor([  61.,  926.,  299.,   84.,  205.,  332.,   23.,  197.,  666.,  101.,\n",
      "         851.,   84.,   54.,  103.,  125.,  267.,  110.,    2.,  950.,  540.,\n",
      "        1062.,  100.,  571.,  586.,    4.,   34.,   18.,   26.,  511.,   11.])\n",
      "tensor([[  8.,   1.,  -1.,  -3.,  -2.,   8.,  32.,   3.],\n",
      "        [  3.,   0.,   3.,   2., -12.,   4.,  28.,   1.],\n",
      "        [ 12.,   3.,  -9., -15., -12.,  12.,  13.,   4.],\n",
      "        [ -2.,   5.,  -2., -14., -16.,   0.,  10.,   6.],\n",
      "        [ -2.,   8.,  -6., -17., -21.,   0.,  17.,   9.],\n",
      "        [ -7.,   8.,  -9., -21., -19.,  -3.,   2.,   8.],\n",
      "        [  9.,   1.,  -6.,  -7.,  -8.,   8.,  48.,   2.],\n",
      "        [  9.,   3.,  -1.,  -4., -10.,  10.,  48.,   3.],\n",
      "        [  1.,  16., -75., -21., -34.,  -9., 112.,  20.],\n",
      "        [ 25.,   2.,  -4.,  -2.,  -4.,  28.,  56.,   3.],\n",
      "        [ -2.,   6.,  -4., -13., -19.,  -1.,  33.,   6.],\n",
      "        [ 42.,   1.,  -2.,   9.,  -3.,  42.,  49.,   2.],\n",
      "        [  7.,   8., -19., -29., -41.,   8.,   2.,   9.],\n",
      "        [ 11.,  -1.,   0.,   6.,  -6.,  13.,  45.,   1.],\n",
      "        [ 10.,   3.,  -1.,  -7.,  -5.,  11.,  40.,   4.],\n",
      "        [ -6.,   4.,   0.,  -9., -23.,  -4., -22.,   5.],\n",
      "        [  7.,  -1.,   0.,  -3.,   3.,   9.,  45.,   1.],\n",
      "        [  3.,   1.,   0.,  -7.,  -7.,   4.,  32.,   2.],\n",
      "        [  4.,   7.,  -5., -18., -24.,   5.,  31.,   8.],\n",
      "        [  6.,   8.,  -6., -15., -19.,  11.,   6.,   7.],\n",
      "        [ 10.,   0.,   1.,   4., -11.,  12.,  46.,   2.],\n",
      "        [ 11.,   2.,  -1.,  -3.,  -9.,  11.,  54.,   3.],\n",
      "        [  4.,   4.,  -6., -13., -21.,   6.,  31.,   6.],\n",
      "        [  8.,   3.,  -2.,  -4.,  -9.,   7.,  34.,   4.],\n",
      "        [  8.,   3.,  -2.,  -4.,  -9.,   8.,  58.,   4.],\n",
      "        [  2.,   5.,  -4., -10., -11.,   4.,  40.,   5.],\n",
      "        [ 18.,   0.,   1.,   8.,  -7.,  19.,  60.,   2.],\n",
      "        [  9.,   1.,  -1.,  -3.,  -8.,   7.,  36.,   3.],\n",
      "        [ -1.,   5.,  -4., -10., -28.,  -2.,   0.,   8.],\n",
      "        [  7.,   5., -11.,  -9., -20.,   9.,  32.,   6.]]) \n",
      " tensor([  49.,  191.,   25.,    9.,   91.,   35.,   58.,   29.,   72.,   16.,\n",
      "          14.,   75.,  119.,   91.,   28.,  569.,   48.,   60.,  146.,  599.,\n",
      "         125.,   45.,  125.,   39.,   12.,   27.,   88.,   51., 1078.,   97.])\n",
      "tensor([[ 29.,  11., -54.,  -6.,  -1.,  24., 158.,  13.],\n",
      "        [  0.,   1.,  -8.,  -5.,  -4.,  -2.,  54.,   1.],\n",
      "        [  5.,   7., -10., -18., -33.,   5., -12.,   8.],\n",
      "        [  8.,   2.,  -8., -10., -21.,   9.,  37.,   3.],\n",
      "        [ 18.,   3.,  -4.,  -2., -17.,  20.,  28.,   3.],\n",
      "        [  9.,   0.,   0.,   1., -12.,   9.,  41.,   2.],\n",
      "        [  8.,   6., -13., -18., -31.,   9.,  -1.,   7.],\n",
      "        [ 24.,   1.,  -5.,  -3.,  -8.,  23.,  47.,   2.],\n",
      "        [ 10.,   2., -15.,  -4., -18.,   2.,  60.,   2.],\n",
      "        [  1.,   8.,  -6., -16., -19.,   2.,  23.,   8.],\n",
      "        [  6.,  11., -14., -27., -35.,   6., -27.,  13.],\n",
      "        [ -7.,   6., -17., -21., -32.,  -9.,  20.,   7.],\n",
      "        [ 19.,   1.,  -9.,  -2.,  -7.,  20.,  39.,   0.],\n",
      "        [  6.,   0.,   2.,   1., -12.,   6.,  34.,   1.],\n",
      "        [ 11.,   4., -17.,  -8.,  -8.,   6.,  52.,   6.],\n",
      "        [  9.,   2.,  -1.,  -3.,  -9.,   9.,  39.,   4.],\n",
      "        [ 14.,   2.,  -2.,  -2.,  -8.,  14.,  55.,   2.],\n",
      "        [  6.,   3.,  -5.,  -9., -19.,   6.,  31.,   5.],\n",
      "        [ -3.,   3.,  -2., -11., -13.,  -3.,  16.,   4.],\n",
      "        [ 19.,   2., -10.,  -8., -17.,  20.,  51.,   3.],\n",
      "        [  9.,   4.,  -8., -11.,  -6.,  11.,  12.,   5.],\n",
      "        [ 10.,   1.,   0.,  -4.,  -7.,  11.,  56.,   3.],\n",
      "        [  6.,   8., -10., -13., -26.,   3.,   9.,  11.],\n",
      "        [ 21.,   2.,  -4.,  -4.,  -8.,  23.,  44.,   3.],\n",
      "        [ -4.,  10.,  -8., -20., -21.,   0.,   4.,   9.],\n",
      "        [  3.,   1.,   2.,   0., -19.,   2.,  13.,   3.],\n",
      "        [  8.,   2.,   1.,  -5.,  -6.,  12.,  18.,   3.],\n",
      "        [  7.,   2.,  -2.,  -5.,  -7.,   8.,  44.,   3.],\n",
      "        [ 23.,  -1., -15.,  -3., -10.,  15.,  58.,   0.],\n",
      "        [  6.,   3.,  -1., -10.,  -6.,  10.,  13.,   4.]]) \n",
      " tensor([  12.,   23., 1030.,   95.,   64.,  155.,  718.,   36.,   34.,    0.,\n",
      "         970.,  248.,   35.,  114.,   56.,   51.,   27.,   61.,   18.,   50.,\n",
      "         246.,   49.,  967.,   38.,   86.,  583.,   44.,   58.,  266.,   31.])\n",
      "tensor([[  8.,   3.,  -3.,  -8.,  -6.,  11.,  26.,   4.],\n",
      "        [ 14.,   6., -13., -14., -21.,  14.,  46.,   6.],\n",
      "        [ 10.,   2.,   2.,  -1., -16.,  11.,  12.,   4.],\n",
      "        [ 11.,   1.,  -2.,  -2.,  -6.,  11.,  64.,   2.],\n",
      "        [ -1.,   3.,  -7.,   1., -16.,  -2.,  58.,   3.],\n",
      "        [ 14.,   2.,  -2.,   1., -16.,  14.,  24.,   4.],\n",
      "        [  8.,   6., -13., -18., -32.,   8., -15.,   7.],\n",
      "        [ 11.,   0.,  -5.,   5., -11.,  12.,  50.,   0.],\n",
      "        [ 11.,   2.,  -3.,  -5., -11.,  11.,  47.,   3.],\n",
      "        [  7.,   1.,  -4.,  -8., -12.,  11.,  43.,   4.],\n",
      "        [ 10.,   0.,   3.,   5., -10.,  11.,  35.,   2.],\n",
      "        [  2.,   3.,  -6., -12., -11.,   0.,  22.,   5.],\n",
      "        [ -8.,   4., -13., -11., -22.,  -9., -13.,   4.],\n",
      "        [-10.,  10., -11., -25., -29.,  -9.,  -7.,  10.],\n",
      "        [  1.,   9.,  -5., -22., -26.,   2.,   4.,   9.],\n",
      "        [ -7.,   9., -11., -22., -26.,  -4.,   5.,   9.],\n",
      "        [ 12.,   4.,  -4.,  -8., -12.,  13.,  26.,   5.],\n",
      "        [ 11.,  -1.,   3.,   6.,  -3.,  13.,  24.,   0.],\n",
      "        [ -2.,   6.,  -6., -12., -29.,  -1.,  -4.,   8.],\n",
      "        [ 14.,   5.,  -8., -12., -21.,  14.,  41.,   6.],\n",
      "        [  8.,   3.,  -1.,  -1.,  -7.,   7.,  19.,   3.],\n",
      "        [ 10.,   0.,   1.,   3., -11.,   9.,  29.,   2.],\n",
      "        [  5.,   1.,   0.,  -5.,  -7.,   5.,  55.,   2.],\n",
      "        [ 13.,   3.,  -6.,   1., -14.,  12.,  45.,   4.],\n",
      "        [  8.,   6.,  -4., -10., -14.,  10.,  40.,   5.],\n",
      "        [  1.,   9.,  -9., -19., -30.,  -1., -10.,  11.],\n",
      "        [  7.,   3., -18., -11., -17.,  -2.,  29.,   4.],\n",
      "        [ 73.,  12., -72., -10., -26.,  67.,  83.,  15.],\n",
      "        [ 10.,   0.,   2.,  -1.,   0.,  11.,  43.,   1.],\n",
      "        [ -2.,   7.,  -7., -20., -20.,  -2., -36.,   7.]]) \n",
      " tensor([  34.,   32.,  451.,   39.,   76.,   75.,  615.,  143.,   57.,  110.,\n",
      "         349.,   43.,  377.,  242.,  147.,  435.,   25.,  313.,  688.,  235.,\n",
      "          19.,  126.,   61.,   73.,   10., 1237.,   36.,   69.,   51.,   13.])\n",
      "tensor([[  0.,   4., -18., -12., -25.,  -1.,  55.,   5.],\n",
      "        [  5.,   2.,   1.,  -1., -19.,   5.,  -4.,   3.],\n",
      "        [ 12.,   2.,  -3.,  -3.,  -7.,  13.,  59.,   3.],\n",
      "        [ 10.,  10., -19., -29., -37.,  10., -15.,  11.],\n",
      "        [ -1.,   0.,  -9.,   6.,  -7.,  -3.,  40.,   1.],\n",
      "        [  0.,   6., -10., -17., -31.,   1.,  10.,   9.],\n",
      "        [ -2.,   7.,  -6., -13., -33.,  -5.,  12.,   9.],\n",
      "        [  7.,   1.,   0.,  -4.,  -8.,   7.,  29.,   3.],\n",
      "        [-13.,   4.,  -2., -18., -21., -16., -21.,   5.],\n",
      "        [ 13.,   1.,   0.,  -2.,  -5.,  13.,  49.,   3.],\n",
      "        [ -2.,   7.,  -6., -15., -20.,  -1.,  44.,   7.],\n",
      "        [  0.,   5.,  -6., -13., -14.,   3.,  40.,   6.],\n",
      "        [ 11.,   1.,   0.,  -5.,  -3.,  14.,  55.,   2.],\n",
      "        [  4.,   6.,  -3.,  -9., -28.,   4.,   5.,   8.],\n",
      "        [  0.,   1.,  -7.,  -4.,  -5.,  -3.,  43.,   1.],\n",
      "        [  4.,  10., -10., -17., -31.,   2., -15.,  13.],\n",
      "        [  2.,   5.,  -5., -10.,  -9.,   4.,  54.,   6.],\n",
      "        [  9.,   0.,   1.,  -2.,  -2.,  10.,  36.,   2.],\n",
      "        [  2.,   6.,  -2., -10., -14.,   3.,  10.,   6.],\n",
      "        [  0.,   7.,  -9., -20., -29.,   1.,   2.,  10.],\n",
      "        [  9.,   1.,  -8.,  -6.,  -4.,   8.,  47.,   2.],\n",
      "        [ 20.,   1.,  -6.,  -4.,  -8.,  18.,  43.,   1.],\n",
      "        [  9.,   1.,   0.,  -3.,  -7.,   8.,  34.,   3.],\n",
      "        [ 16.,   2.,   0.,  -1.,  -4.,  19.,  56.,   3.],\n",
      "        [  0.,   6.,  -6., -13., -19.,   0.,  47.,   7.],\n",
      "        [  8.,   3., -24., -13., -19.,  -2.,  30.,   5.],\n",
      "        [  0.,   6., -14., -19., -12.,   2.,  -9.,   5.],\n",
      "        [  9.,  -1.,   1.,  -1.,  -1.,  11.,  41.,   1.],\n",
      "        [ 10.,   0.,   2.,   5., -10.,   9.,  39.,   1.],\n",
      "        [ -5.,   8., -10., -26., -31.,  -5.,  -3.,  11.]]) \n",
      " tensor([  70.,  488.,   79.,  808.,  223.,  110., 1011.,   50.,   36.,   43.,\n",
      "          39.,  125.,   59.,  880.,   46., 1132.,   47.,   43.,    6.,  168.,\n",
      "         324.,   42.,   63.,   38.,   27.,  397.,  279.,   50.,  343.,  198.])\n",
      "tensor([[ -5.,   6.,  -6., -17., -18.,  -3.,  12.,   7.],\n",
      "        [ 19.,   0.,   3.,   9.,  -6.,  19.,  59.,   1.],\n",
      "        [  8.,   3.,  -9., -10., -20.,   6.,  45.,   5.],\n",
      "        [ -3.,   8., -13., -25., -34.,   0.,  15.,  12.],\n",
      "        [  6.,   7., -13., -21., -34.,   6.,   2.,   9.],\n",
      "        [  1.,   3.,  -5.,  -4.,  -9.,   0.,  34.,   3.],\n",
      "        [  1.,   7.,  -6., -13., -19.,   1.,  36.,   8.],\n",
      "        [  7.,   2.,   0.,  -7.,  -8.,   9.,  30.,   3.],\n",
      "        [ 13.,  -2.,   1.,  10.,  -3.,  15.,  51.,   0.],\n",
      "        [ -1.,   4.,  -2., -11., -11.,   0.,   6.,   5.],\n",
      "        [  3.,   3.,  -1.,  -8.,  -9.,   6.,  18.,   4.],\n",
      "        [  3.,   5., -10., -16., -27.,   5.,  27.,   8.],\n",
      "        [ 10.,   2.,  -6.,  -7.,  -9.,   9.,  44.,   2.],\n",
      "        [  1.,   6., -10., -18., -31.,  -1.,  32.,   9.]]) \n",
      " tensor([ 76.,  75., 441., 176.,  82.,  15.,  27.,  49., 103.,   9.,  39., 156.,\n",
      "         44., 153.])\n"
     ]
    }
   ],
   "source": [
    "#🤦‍♂️🤦‍♂️🤦‍♂️🤦‍♂️🤦‍♂️🤦‍♂️🤦‍♂️🤦‍♂️🤦‍♂️🤦‍♂️🤦‍♂️🤦‍♂️🤦‍♂️🤦‍♂️🤦‍♂️🤦‍♂️🤦‍♂️🤦‍♂️🤦‍♂️\n",
    "for batch_features, batch_labels in dataloader:\n",
    "    print(batch_features, '\\n', batch_labels)"
   ]
  },
  {
   "cell_type": "code",
   "execution_count": 15,
   "id": "3d61a2c0",
   "metadata": {},
   "outputs": [
    {
     "name": "stdout",
     "output_type": "stream",
     "text": [
      "epoch 1, loss 37543.082031\n",
      "epoch 1001, loss 19614.259766\n",
      "epoch 2001, loss 19250.941406\n",
      "epoch 3001, loss 19048.396484\n",
      "epoch 4001, loss 18956.287109\n",
      "epoch 5001, loss 18803.841797\n",
      "epoch 6001, loss 18718.265625\n",
      "epoch 7001, loss 18678.775391\n",
      "epoch 8001, loss 18589.734375\n",
      "epoch 9001, loss 18535.576172\n",
      "epoch 10001, loss 18541.669922\n",
      "epoch 11001, loss 18474.244141\n",
      "epoch 12001, loss 18443.234375\n",
      "epoch 13001, loss 18396.677734\n",
      "epoch 14001, loss 18375.765625\n",
      "epoch 15001, loss 18353.232422\n",
      "epoch 16001, loss 18347.775391\n",
      "epoch 17001, loss 18323.353516\n",
      "epoch 18001, loss 18323.626953\n",
      "epoch 19001, loss 18298.806641\n",
      "epoch 20001, loss 18290.074219\n",
      "epoch 21001, loss 18289.044922\n",
      "epoch 22001, loss 18289.601562\n",
      "epoch 23001, loss 18287.232422\n",
      "epoch 24001, loss 18264.705078\n",
      "epoch 25001, loss 18272.978516\n",
      "epoch 26001, loss 18281.642578\n",
      "epoch 27001, loss 18256.773438\n",
      "epoch 28001, loss 18269.396484\n",
      "epoch 29001, loss 18248.666016\n",
      "epoch 30001, loss 18245.205078\n",
      "epoch 31001, loss 18254.279297\n",
      "epoch 32001, loss 18244.376953\n",
      "epoch 33001, loss 18249.525391\n",
      "epoch 34001, loss 18255.335938\n",
      "epoch 35001, loss 18250.189453\n",
      "epoch 36001, loss 18238.753906\n",
      "epoch 37001, loss 18237.626953\n",
      "epoch 38001, loss 18256.667969\n",
      "epoch 39001, loss 18258.306641\n",
      "epoch 40001, loss 18237.919922\n",
      "epoch 41001, loss 18271.455078\n",
      "epoch 42001, loss 18237.109375\n",
      "epoch 43001, loss 18281.898438\n",
      "epoch 44001, loss 18251.826172\n",
      "epoch 45001, loss 18249.675781\n",
      "epoch 46001, loss 18249.074219\n",
      "epoch 47001, loss 18239.560547\n",
      "epoch 48001, loss 18244.929688\n",
      "epoch 49001, loss 18250.357422\n"
     ]
    }
   ],
   "source": [
    "### 🤦‍♂️🤦‍♂️🤦‍♂️🤦‍♂️🤦‍♂️🤦‍♂️🤦‍♂️🤦‍♂️ ###\n",
    "\n",
    "for epoch in range(num_epochs):\n",
    "    for batch_features, batch_labels in dataloader:\n",
    "        l = loss(lin_model(batch_features, W, b), batch_labels)  \n",
    "        \n",
    "        # Compute gradient on `l` with respect to [`w`, `b`]\n",
    "        #.backward()를 호출하여 W와 b의 loss에 대한 gradient를 계산 (자동 미분)\n",
    "        l.sum().backward()\n",
    "        \n",
    "        # sgd함수 - parameter(W,b) 업데이트\n",
    "        sgd(W, b, lr, batch_size)\n",
    "        \n",
    "    # with torch.no_grad() 구문 내에서는 학습가능한 parameter들을 업데이트 하지 않음    \n",
    "    with torch.no_grad():                              \n",
    "        train_l = loss(lin_model(X, W, b), y)  \n",
    "\n",
    "        if epoch%1000==0:\n",
    "            print(f'epoch {epoch + 1}, loss {float(train_l.mean()):f}')"
   ]
  },
  {
   "cell_type": "markdown",
   "id": "656c7b9a",
   "metadata": {},
   "source": [
    "### 결과요약\n",
    "- input feature 및 hyperparameter 들의 선정이 완료되어 최종 모델이 학습되면 아래와 같은 결과를 출력하여 노트북파일을 저장하고 제출합니다. \n",
    "- 결과는 아래 3가지를 반드시 포함하여 출력하도록 합니다.\n",
    "    1. 314개 example들에 대한 loss의 평균, \n",
    "    2. 314개 example에 대한 label, prediction의 scatter plot, \n",
    "    3. 학습이 완료된 model의 weight들의 값"
   ]
  },
  {
   "cell_type": "code",
   "execution_count": 16,
   "id": "70611c1b",
   "metadata": {},
   "outputs": [
    {
     "name": "stdout",
     "output_type": "stream",
     "text": [
      "average loss: 18257.621094\n"
     ]
    },
    {
     "data": {
      "image/png": "[encoded data removed]",
      "text/plain": [
       "<Figure size 432x288 with 1 Axes>"
      ]
     },
     "metadata": {
      "needs_background": "light"
     },
     "output_type": "display_data"
    },
    {
     "name": "stdout",
     "output_type": "stream",
     "text": [
      "W: tensor([[  6.8810],\n",
      "        [-18.1665],\n",
      "        [ -0.3900],\n",
      "        [ 20.4982],\n",
      "        [ -7.6521],\n",
      "        [ -4.9371],\n",
      "        [ -5.9948],\n",
      "        [ 59.9599]])\n",
      "b: tensor([181.7122])\n"
     ]
    }
   ],
   "source": [
    "# 학습이 완료된 모델로부터 전체 314개 데이터에 대한 average loss를 출력하고,\n",
    "# real value와 prediction을 비교합니다.\n",
    "# 또한, 학습된 parameter들 w를 출력하여 각각의 feature에 대한 weight를 확인합니다.\n",
    "\n",
    "# with torch.no_grad() - requires_grad = True 인 Tensor(weight, bias)의 연산기록 추적을 멈춤\n",
    "# with로 묶은 범위 내에서 grad 사용 안함\n",
    "with torch.no_grad():\n",
    "    y_hat = lin_model(X, W, b)\n",
    "    train_l = loss(y_hat, y)\n",
    "    print(f'average loss: {float(train_l.mean()):f}')\n",
    "\n",
    "plt.scatter(y,y_hat,2)\n",
    "plt.scatter(np.arange(0,1200,10),np.arange(0,1200,10),1)\n",
    "plt.grid('on')\n",
    "plt.xlabel('real value (y)')\n",
    "\n",
    "plt.ylabel('prediction (y_hat)')\n",
    "plt.title(f'final loss {float(train_l.mean()):f}')\n",
    "plt.show()\n",
    "\n",
    "# 각 weight들의 값과 bias 값 출력\n",
    "# .dethach()를 사용하여 기존 Tensor에서 gradient 업데이트가 일어나지 않는 텐서를 생성하여 출력\n",
    "print('W:',W.detach())\n",
    "print('b:',b.detach())"
   ]
  },
  {
   "cell_type": "code",
   "execution_count": 17,
   "id": "fb042f6e",
   "metadata": {},
   "outputs": [
    {
     "data": {
      "text/plain": [
       "torch.Size([314, 8])"
      ]
     },
     "execution_count": 17,
     "metadata": {},
     "output_type": "execute_result"
    }
   ],
   "source": [
    "X.shape"
   ]
  },
  {
   "cell_type": "code",
   "execution_count": 18,
   "id": "8547e1f7",
   "metadata": {},
   "outputs": [
    {
     "data": {
      "text/plain": [
       "torch.Size([314])"
      ]
     },
     "execution_count": 18,
     "metadata": {},
     "output_type": "execute_result"
    }
   ],
   "source": [
    "y.shape"
   ]
  },
  {
   "cell_type": "code",
   "execution_count": 19,
   "id": "5907851c",
   "metadata": {},
   "outputs": [
    {
     "data": {
      "text/plain": [
       "torch.Size([314, 1])"
      ]
     },
     "execution_count": 19,
     "metadata": {},
     "output_type": "execute_result"
    }
   ],
   "source": [
    "y_hat.shape"
   ]
  }
 ],
 "metadata": {
  "kernelspec": {
   "display_name": "Python 3 (ipykernel)",
   "language": "python",
   "name": "python3"
  },
  "language_info": {
   "codemirror_mode": {
    "name": "ipython",
    "version": 3
   },
   "file_extension": ".py",
   "mimetype": "text/x-python",
   "name": "python",
   "nbconvert_exporter": "python",
   "pygments_lexer": "ipython3",
   "version": "3.9.7"
  },
  "toc": {
   "base_numbering": 1,
   "nav_menu": {},
   "number_sections": true,
   "sideBar": true,
   "skip_h1_title": false,
   "title_cell": "Table of Contents",
   "title_sidebar": "Contents",
   "toc_cell": false,
   "toc_position": {},
   "toc_section_display": true,
   "toc_window_display": false
  }
 },
 "nbformat": 4,
 "nbformat_minor": 5
}
